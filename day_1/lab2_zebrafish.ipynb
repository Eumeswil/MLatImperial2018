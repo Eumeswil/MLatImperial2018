{
 "cells": [
  {
   "cell_type": "markdown",
   "metadata": {},
   "source": [
    "# The fishy notebook"
   ]
  },
  {
   "cell_type": "code",
   "execution_count": null,
   "metadata": {
    "collapsed": true
   },
   "outputs": [],
   "source": [
    "import os\n",
    "import numpy as np"
   ]
  },
  {
   "cell_type": "markdown",
   "metadata": {},
   "source": [
    "# Zebrafish brain study\n",
    "\n",
    "* We gonnawork with a fish of [Danio Rerio](https://en.wikipedia.org/wiki/Zebrafish) species (aka zebrafish).\n",
    "* The data contains a \"video\" of 240 frames of fish head, each image contains __230 x 202__ pixels.\n",
    "* In the initial stages of their life, those fishes are almost _completely transparent_. In this experiment, the fish was recorded in a solution that emits light on any electric activity, including neural activity.\n",
    "\n",
    "![img](http://static1.squarespace.com/static/5355ec0de4b02760ee889a8f/t/5357cbfee4b03a3c7d9e4831/1398262791647/fish)"
   ]
  },
  {
   "cell_type": "code",
   "execution_count": null,
   "metadata": {
    "collapsed": true
   },
   "outputs": [],
   "source": [
    "# read data. This time it's just a 2D numpy array, no pandas involved\n",
    "data = np.load(\"zebrafish.npy\")"
   ]
  },
  {
   "cell_type": "code",
   "execution_count": null,
   "metadata": {},
   "outputs": [],
   "source": [
    "import matplotlib.pyplot as plt\n",
    "%matplotlib inline\n",
    "\n",
    "tick0 = data[:,0]\n",
    "tick0_image = tick0.reshape(230, 202)\n",
    "\n",
    "print(\"Image shape:\", tick0_image.shape)\n",
    "\n",
    "plt.imshow(tick0_image.T);"
   ]
  },
  {
   "cell_type": "code",
   "execution_count": null,
   "metadata": {
    "scrolled": true
   },
   "outputs": [],
   "source": [
    "# there's also a function that draws it nicely\n",
    "from zebrafish_drawing_factory import draw_component, draw_components\n",
    "draw_component(data[:,0])"
   ]
  },
  {
   "cell_type": "markdown",
   "metadata": {},
   "source": [
    "# View as time series\n",
    "\n",
    "* Let's see how each pixel performs over time."
   ]
  },
  {
   "cell_type": "code",
   "execution_count": null,
   "metadata": {},
   "outputs": [],
   "source": [
    "import matplotlib.pyplot as plt\n",
    "%matplotlib inline\n",
    "plt.figure(figsize=[10,10])\n",
    "for i in range(0,240,24):\n",
    "    plt.plot(data[i])\n"
   ]
  },
  {
   "cell_type": "markdown",
   "metadata": {
    "collapsed": true
   },
   "source": [
    "# Let's try out PCA:\n",
    "\n",
    "Like other Sklearn models, PCA follows the unified interface, but there's a twist\n",
    "* __pca = PCA(n_components = ...)__ - creates the model\n",
    "* __pca.fit(X)__ - find the principial components\n",
    "* __X_components = pca.transform(X)__ - compute principial components for given data (performs linear transformation)"
   ]
  },
  {
   "cell_type": "code",
   "execution_count": null,
   "metadata": {},
   "outputs": [],
   "source": [
    "from sklearn.decomposition import PCA\n",
    "\n",
    "pca = <Create PCA>\n",
    "\n",
    "<Fit PCA to data>"
   ]
  },
  {
   "cell_type": "code",
   "execution_count": null,
   "metadata": {},
   "outputs": [],
   "source": [
    "data_pca = <Use PCA to measure principial components on data>"
   ]
  },
  {
   "cell_type": "markdown",
   "metadata": {},
   "source": [
    "# Let's visualize components"
   ]
  },
  {
   "cell_type": "code",
   "execution_count": null,
   "metadata": {},
   "outputs": [],
   "source": [
    "# for each component: visualize weights of each time-step\n",
    "for i in range(5):\n",
    "    plt.title(\"Component_%i\"%i)\n",
    "    plt.plot(pca.components_[i])\n",
    "    plt.show()\n"
   ]
  },
  {
   "cell_type": "code",
   "execution_count": null,
   "metadata": {},
   "outputs": [],
   "source": [
    "# see which pixels have large values of component 1\n",
    "draw_component(data_pca[:,1])"
   ]
  },
  {
   "cell_type": "code",
   "execution_count": null,
   "metadata": {
    "collapsed": true
   },
   "outputs": [],
   "source": [
    "draw_component(data_pca[:,2])"
   ]
  },
  {
   "cell_type": "code",
   "execution_count": null,
   "metadata": {},
   "outputs": [],
   "source": [
    "from zebrafish_drawing_factory import draw_components\n",
    "\n",
    "draw_components(data_pca[:,1], data_pca[:,2])"
   ]
  },
  {
   "cell_type": "markdown",
   "metadata": {
    "collapsed": true
   },
   "source": [
    "<Your code: visualize top-30 componentes >"
   ]
  }
 ],
 "metadata": {
  "kernelspec": {
   "display_name": "Python 3",
   "language": "python",
   "name": "python3"
  },
  "language_info": {
   "codemirror_mode": {
    "name": "ipython",
    "version": 3
   },
   "file_extension": ".py",
   "mimetype": "text/x-python",
   "name": "python",
   "nbconvert_exporter": "python",
   "pygments_lexer": "ipython3",
   "version": "3.6.2"
  }
 },
 "nbformat": 4,
 "nbformat_minor": 1
}
