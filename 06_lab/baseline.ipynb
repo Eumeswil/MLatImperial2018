{
 "cells": [
  {
   "cell_type": "markdown",
   "metadata": {},
   "source": [
    "# !Link to challenge!"
   ]
  },
  {
   "cell_type": "markdown",
   "metadata": {},
   "source": [
    "# https://www.kaggle.com/t/4cab4f6367c44d1a9a8a9769d8e36e57"
   ]
  },
  {
   "cell_type": "markdown",
   "metadata": {},
   "source": [
    "# Set CUDA variables"
   ]
  },
  {
   "cell_type": "code",
   "execution_count": 1,
   "metadata": {
    "collapsed": false
   },
   "outputs": [
    {
     "name": "stdout",
     "output_type": "stream",
     "text": [
      "env: CUDA_VISIBLE_DEVICES=2\n",
      "env: LIBRARY_PATH=/usr/local/cuda/lib64\n"
     ]
    }
   ],
   "source": [
    "%env CUDA_VISIBLE_DEVICES=#\n",
    "%env LIBRARY_PATH=/usr/local/cuda/lib64\n",
    "import sys"
   ]
  },
  {
   "cell_type": "markdown",
   "metadata": {},
   "source": [
    "### import standard packages"
   ]
  },
  {
   "cell_type": "code",
   "execution_count": 2,
   "metadata": {
    "collapsed": true
   },
   "outputs": [],
   "source": [
    "import numpy as np\n",
    "import pickle\n",
    "import os\n",
    "import matplotlib.pyplot as plt\n",
    "%matplotlib inline\n",
    "import scipy\n",
    "from sklearn.metrics import accuracy_score\n",
    "from sklearn.metrics import roc_auc_score"
   ]
  },
  {
   "cell_type": "markdown",
   "metadata": {},
   "source": [
    "## import torch and h5 data format parser"
   ]
  },
  {
   "cell_type": "code",
   "execution_count": 3,
   "metadata": {
    "collapsed": true
   },
   "outputs": [],
   "source": [
    "import h5py\n",
    "import torch"
   ]
  },
  {
   "cell_type": "markdown",
   "metadata": {},
   "source": [
    "## Read data function.\n",
    "\n",
    "- with nb_events you can choose how many examples you want to download.\n",
    "- np.rollaxis(hit_map, 3, 1) change the axis order to put channels first. This is the format of pytorch framework.\n",
    "- (hit_map - hit_map.mean ...  All examples are being standartized: substracted a mean and divided by std. deviation. This is done for each channels separatly."
   ]
  },
  {
   "cell_type": "code",
   "execution_count": 4,
   "metadata": {
    "collapsed": true
   },
   "outputs": [],
   "source": [
    "train = h5py.File('/data/ICL2018_kaggle_2/kaggle_train.h5', 'r')\n",
    "test = h5py.File('/data/ICL2018_kaggle_2/kaggle_test.h5', 'r')"
   ]
  },
  {
   "cell_type": "code",
   "execution_count": 5,
   "metadata": {
    "collapsed": false
   },
   "outputs": [
    {
     "name": "stdout",
     "output_type": "stream",
     "text": [
      "(412416, 64, 64)\n",
      "(137471, 64, 64)\n"
     ]
    }
   ],
   "source": [
    "print(train['all_events']['histHCAL'].shape)\n",
    "print(test['all_events']['histHCAL'].shape)"
   ]
  },
  {
   "cell_type": "code",
   "execution_count": 6,
   "metadata": {
    "collapsed": true
   },
   "outputs": [],
   "source": [
    "def read_data(data, is_train=True, nb_events=None):\n",
    "    layer_hcal = np.expand_dims(data['all_events']['histHCAL'][:nb_events], -1)\n",
    "    layer_em = np.expand_dims(data['all_events']['histEM'][:nb_events], -1)\n",
    "    layer_track = np.expand_dims(data['all_events']['histtrack'][:nb_events], -1)\n",
    "    \n",
    "    hit_map = np.concatenate((layer_hcal, layer_em, layer_track), axis=-1)\n",
    "    hit_map = np.rollaxis(hit_map, 3, 1)\n",
    "    hit_map = (hit_map - hit_map.mean(axis=0, keepdims=True)) / hit_map.std(axis=0, keepdims=True)\n",
    "    answers = None\n",
    "    if is_train:\n",
    "        answers = np.expand_dims(data['all_events']['y'][:nb_events], -1)\n",
    "    return hit_map, answers"
   ]
  },
  {
   "cell_type": "code",
   "execution_count": 7,
   "metadata": {
    "collapsed": false
   },
   "outputs": [
    {
     "name": "stdout",
     "output_type": "stream",
     "text": [
      "(20000, 3, 64, 64)\n"
     ]
    }
   ],
   "source": [
    "X_train, y_train = read_data(train, is_train=True, nb_events=20000)\n",
    "assert (X_train.shape[0] == y_train.shape[0])\n",
    "print(X_train.shape)"
   ]
  },
  {
   "cell_type": "code",
   "execution_count": 19,
   "metadata": {
    "collapsed": false
   },
   "outputs": [
    {
     "data": {
      "image/png": "[encoded data removed]",
      "text/plain": [
       "<matplotlib.figure.Figure at 0x7fcb208d4c50>"
      ]
     },
     "metadata": {},
     "output_type": "display_data"
    }
   ],
   "source": [
    "f, ax = plt.subplots(1,3,figsize=(14,6))\n",
    "for i in range(3):\n",
    "    ax[i].imshow(X_train[100,i,:,:], cmap=\"Reds\")"
   ]
  },
  {
   "cell_type": "markdown",
   "metadata": {},
   "source": [
    "### As usual split the train data to train and validation samples."
   ]
  },
  {
   "cell_type": "code",
   "execution_count": 20,
   "metadata": {
    "collapsed": false
   },
   "outputs": [
    {
     "name": "stderr",
     "output_type": "stream",
     "text": [
      "/home/shirobokov/.local/lib/python3.6/site-packages/sklearn/cross_validation.py:41: DeprecationWarning: This module was deprecated in version 0.18 in favor of the model_selection module into which all the refactored classes and functions are moved. Also note that the interface of the new CV iterators are different from that of this module. This module will be removed in 0.20.\n",
      "  \"This module will be removed in 0.20.\", DeprecationWarning)\n"
     ]
    }
   ],
   "source": [
    "from sklearn.cross_validation import train_test_split\n",
    "X_train, X_val, y_train, y_val = train_test_split(X_train, y_train, train_size=0.5, random_state=42)"
   ]
  },
  {
   "cell_type": "markdown",
   "metadata": {},
   "source": [
    "## The next steps are exactly the same as was on cifar seminar to Tuesday"
   ]
  },
  {
   "cell_type": "code",
   "execution_count": 21,
   "metadata": {
    "collapsed": true
   },
   "outputs": [],
   "source": [
    "from torch import nn\n",
    "import torch.nn.functional as F\n",
    "from torch.autograd import Variable\n",
    "\n",
    "class Flatten(nn.Module):\n",
    "    def forward(self, input):\n",
    "        return input.view(input.size(0), -1)"
   ]
  },
  {
   "cell_type": "markdown",
   "metadata": {},
   "source": [
    "### This is dummy example of CNN, look what you can change here(HINT: look at cifar seminar cheatsheet)"
   ]
  },
  {
   "cell_type": "code",
   "execution_count": 22,
   "metadata": {
    "collapsed": false
   },
   "outputs": [
    {
     "data": {
      "text/plain": [
       "Sequential(\n",
       "  (maxpool_1): MaxPool2d(kernel_size=(2, 2), stride=(2, 2), dilation=(1, 1))\n",
       "  (conv_1): Conv2d (3, 32, kernel_size=(5, 5), stride=(1, 1))\n",
       "  (maxpool_2): MaxPool2d(kernel_size=(2, 2), stride=(2, 2), dilation=(1, 1))\n",
       "  (relu_1): ReLU()\n",
       "  (flat): Flatten(\n",
       "  )\n",
       "  (fc1): Linear(in_features=6272, out_features=128)\n",
       "  (relu_2): ReLU()\n",
       "  (fc2): Linear(in_features=128, out_features=1)\n",
       "  (sigmoid): Sigmoid()\n",
       ")"
      ]
     },
     "execution_count": 22,
     "metadata": {},
     "output_type": "execute_result"
    }
   ],
   "source": [
    "model = torch.nn.Sequential()\n",
    "model.add_module(\"maxpool_1\", torch.nn.MaxPool2d(kernel_size=2))\n",
    "model.add_module('conv_1', nn.Conv2d(3, 32, kernel_size=(5,5), stride=1, padding=0))\n",
    "model.add_module(\"maxpool_2\", torch.nn.MaxPool2d(kernel_size=2))\n",
    "model.add_module(\"relu_1\", torch.nn.ReLU())\n",
    "\n",
    "model.add_module(\"flat\", Flatten())\n",
    "\n",
    "model.add_module(\"fc1\", torch.nn.Linear(6272, 128))\n",
    "model.add_module(\"relu_2\", torch.nn.ReLU())\n",
    "model.add_module(\"fc2\", torch.nn.Linear(128, 1))\n",
    "model.add_module(\"sigmoid\", torch.nn.Sigmoid())\n",
    "\n",
    "model.cuda(0)"
   ]
  },
  {
   "cell_type": "markdown",
   "metadata": {},
   "source": [
    "### Training on minibatches\n",
    "\n",
    "Just like before, we train our model on small random minibatches of data with adaptive optimization method of your choice."
   ]
  },
  {
   "cell_type": "code",
   "execution_count": 23,
   "metadata": {
    "collapsed": true
   },
   "outputs": [],
   "source": [
    "# An auxilary function that returns mini-batches for neural network training\n",
    "from tqdm import trange\n",
    "def iterate_minibatches(X, y, batchsize, shuffle=False):\n",
    "    indices = np.arange(len(X))\n",
    "    if shuffle: \n",
    "        indices = np.random.permutation(indices)\n",
    "    for start in trange(0, len(indices), batchsize):\n",
    "        ix = indices[start: start + batchsize]\n",
    "        yield X[ix], y[ix]"
   ]
  },
  {
   "cell_type": "markdown",
   "metadata": {},
   "source": [
    "### Choose you optimiser"
   ]
  },
  {
   "cell_type": "code",
   "execution_count": 24,
   "metadata": {
    "collapsed": true
   },
   "outputs": [],
   "source": [
    "opt = torch.optim.SGD(model.parameters(), lr=0.01)"
   ]
  },
  {
   "cell_type": "markdown",
   "metadata": {},
   "source": [
    "## And set up batch_size and number of epochs"
   ]
  },
  {
   "cell_type": "code",
   "execution_count": 25,
   "metadata": {
    "collapsed": true
   },
   "outputs": [],
   "source": [
    "import time\n",
    "from pandas import ewma\n",
    "from IPython import display\n",
    "\n",
    "num_epochs = 50 #amount of passes through the data\n",
    "batch_size = 1024 #number of samples processed at each function call\n",
    "auc_history = []"
   ]
  },
  {
   "cell_type": "code",
   "execution_count": 26,
   "metadata": {
    "collapsed": false
   },
   "outputs": [
    {
     "data": {
      "image/png": "[encoded data removed]",
      "text/plain": [
       "<matplotlib.figure.Figure at 0x7fcb208c43c8>"
      ]
     },
     "metadata": {},
     "output_type": "display_data"
    },
    {
     "name": "stdout",
     "output_type": "stream",
     "text": [
      "Epoch 50 of 50 took 2.122s\n",
      "  training loss (in-iteration):\t\t0.145370\n",
      "  train accuracy:\t\t106.51 %\n",
      "  validation accuracy:\t\t92.86 %\n",
      "  validation roc_auc:\t\t98.09 %\n"
     ]
    }
   ],
   "source": [
    "for epoch in range(num_epochs):\n",
    "    # In each epoch, we do a full pass over the training data:\n",
    "    \n",
    "    train_err = train_acc = 0\n",
    "    start_time = time.time()\n",
    "    \n",
    "    # This is you have see already - traning loop\n",
    "    model.train(True) # enable dropout / batch_norm training behavior\n",
    "    for X_batch, y_batch in iterate_minibatches(X_train, y_train, batch_size, shuffle=True):\n",
    "        X_batch = Variable(torch.FloatTensor(X_batch)).cuda(0)\n",
    "        y_batch = Variable(torch.FloatTensor(y_batch)).cuda(0)\n",
    "        \n",
    "        y_predicted = model(X_batch)\n",
    "        loss = torch.nn.functional.binary_cross_entropy(y_predicted, y_batch).mean()\n",
    "        \n",
    "        loss.backward()\n",
    "        opt.step()\n",
    "        opt.zero_grad()\n",
    "        \n",
    "        train_err += loss.data.cpu().numpy()[0]\n",
    "        train_acc += torch.eq(torch.round(y_predicted), y_batch).data.cpu().numpy().mean()\n",
    "\n",
    "    # And a full pass over the validation data:\n",
    "    y_pred = []\n",
    "    \n",
    "    model.train(False)\n",
    "    for X_batch, y_batch in iterate_minibatches(X_val, y_val, batch_size, shuffle=False):\n",
    "        X_batch = Variable(torch.FloatTensor(X_batch)).cuda(0)\n",
    "        y_pred.extend(model(X_batch).data.cpu().numpy())\n",
    "        \n",
    "    y_pred = np.asarray(y_pred)\n",
    "    # Save the metrics values   \n",
    "    val_acc = accuracy_score(y_val, y_pred > 0.5)\n",
    "    val_roc_auc = roc_auc_score(y_val, y_pred)\n",
    "    auc_history.append(val_roc_auc)\n",
    "\n",
    "    \n",
    "    \n",
    "    # Visualize\n",
    "    display.clear_output(wait=True)\n",
    "    plt.figure(figsize=(8, 6))\n",
    "    plt.title(\"Validation AUC\")\n",
    "    plt.xlabel(\"#iteration\")\n",
    "    plt.ylabel(\"AUC\")\n",
    "    plt.plot(auc_history, 'b',label='val auc')\n",
    "    plt.plot(ewma(np.array(auc_history), span=10),'r',label='ewm val auc')\n",
    "    plt.legend(loc='best')\n",
    "    plt.grid()\n",
    "    plt.show()\n",
    "    \n",
    "    # Then we print the results for this epoch:\n",
    "    print(\"Epoch {} of {} took {:.3f}s\".format(\n",
    "        epoch + 1, num_epochs, time.time() - start_time))\n",
    "\n",
    "    train_batches = np.ceil(len(X_train) // batch_size)\n",
    "    print(\"  training loss (in-iteration):\\t\\t{:.6f}\".format(train_err / train_batches))\n",
    "    print(\"  train accuracy:\\t\\t{:.2f} %\".format(train_acc / train_batches * 100))\n",
    "    print(\"  validation accuracy:\\t\\t{:.2f} %\".format(val_acc * 100))\n",
    "    print(\"  validation roc_auc:\\t\\t{:.2f} %\".format(val_roc_auc * 100))"
   ]
  },
  {
   "cell_type": "markdown",
   "metadata": {},
   "source": [
    "# Read test data, feed it to neural network, and save the output in kaggle fromat."
   ]
  },
  {
   "cell_type": "code",
   "execution_count": 29,
   "metadata": {
    "collapsed": true
   },
   "outputs": [],
   "source": [
    "X_test, non_var = read_data(test, is_train=False)\n",
    "dummy_y = np.array(range(len(X_test)))"
   ]
  },
  {
   "cell_type": "code",
   "execution_count": 30,
   "metadata": {
    "collapsed": false
   },
   "outputs": [
    {
     "name": "stderr",
     "output_type": "stream",
     "text": [
      "100%|██████████| 135/135 [00:14<00:00,  9.44it/s]\n"
     ]
    }
   ],
   "source": [
    "model.train(False)\n",
    "y_pred = []\n",
    "for X_batch, y_batch in iterate_minibatches(X_test, dummy_y, batch_size, shuffle=False):\n",
    "    X_batch = Variable(torch.FloatTensor(X_batch)).cuda(0)\n",
    "    y_pred.extend(model(X_batch).data.cpu().numpy())\n",
    "\n",
    "y_predicted = np.asarray(y_pred)"
   ]
  },
  {
   "cell_type": "markdown",
   "metadata": {},
   "source": [
    "Saving you results to file."
   ]
  },
  {
   "cell_type": "code",
   "execution_count": 31,
   "metadata": {
    "collapsed": true
   },
   "outputs": [],
   "source": [
    "import pandas as pd\n",
    "from IPython.display import FileLink\n",
    "\n",
    "def save_results(filename, y_ans):\n",
    "    answer_dataframe = pd.DataFrame(columns=[\"ID\", \"ans\"])\n",
    "    answer_dataframe['ID'] = range(0,len(y_ans))\n",
    "    answer_dataframe['ans'] = y_ans\n",
    "    answer_dataframe.to_csv('{}'.format(filename), index=False)\n",
    "    return FileLink('{}'.format(filename))"
   ]
  },
  {
   "cell_type": "code",
   "execution_count": 32,
   "metadata": {
    "collapsed": false
   },
   "outputs": [
    {
     "data": {
      "text/html": [
       "<a href='baseline.csv' target='_blank'>baseline.csv</a><br>"
      ],
      "text/plain": [
       "/home/shirobokov/ICL/baseline.csv"
      ]
     },
     "execution_count": 32,
     "metadata": {},
     "output_type": "execute_result"
    }
   ],
   "source": [
    "save_results(\"baseline.csv\", y_predicted)"
   ]
  },
  {
   "cell_type": "code",
   "execution_count": null,
   "metadata": {
    "collapsed": true
   },
   "outputs": [],
   "source": []
  }
 ],
 "metadata": {
  "kernelspec": {
   "display_name": "Python 3",
   "language": "python",
   "name": "python3"
  },
  "language_info": {
   "codemirror_mode": {
    "name": "ipython",
    "version": 3
   },
   "file_extension": ".py",
   "mimetype": "text/x-python",
   "name": "python",
   "nbconvert_exporter": "python",
   "pygments_lexer": "ipython3",
   "version": "3.5.2"
  }
 },
 "nbformat": 4,
 "nbformat_minor": 2
}
